{
 "cells": [
  {
   "cell_type": "code",
   "execution_count": 1,
   "id": "3565ebd3",
   "metadata": {},
   "outputs": [],
   "source": [
    "#Import Necessary Libraries \n",
    "import geopandas as gpd\n",
    "import os\n",
    "import fiona\n",
    "import rasterio\n",
    "import rasterio.mask\n",
    "from rasterio.plot import show\n",
    "from rasterio.warp import calculate_default_transform, reproject, Resampling\n",
    "\n",
    "import geopandas as gpd \n",
    "import pandas as pd\n",
    "import numpy as np \n",
    "\n",
    "import sentinelsat\n",
    "from sentinelsat import SentinelAPI, read_geojson, geojson_to_wkt\n",
    "import datetime\n",
    "from datetime import date \n",
    "\n",
    "import json\n",
    "import requests\n",
    "import zipfile\n",
    "\n",
    "from osgeo import gdal\n",
    "import glob\n",
    "\n",
    "import matplotlib.pyplot as plt\n",
    "import imageio\n",
    "import cv2\n",
    "from copy import copy \n",
    "from scipy import misc"
   ]
  },
  {
   "cell_type": "code",
   "execution_count": 6,
   "id": "e42b12f6",
   "metadata": {},
   "outputs": [
    {
     "name": "stdout",
     "output_type": "stream",
     "text": [
      "C:\\Users\\cfcni\n",
      "C:\\Users\\cfcni\\finalproj_img_stor\n",
      "<open DatasetReader name='C:/Users/cfcni/finalproj_img_stor/S2A_MSIL1C_20160524T161222_N0202_R097_T18SUJ_20160524T161221/GRANULE/L1C_T18SUJ_A004813_20160524T161221/IMG_DATA/T18SUJ_20160524T161222_B02.jp2' mode='r'>\n",
      "{'driver': 'JP2OpenJPEG', 'dtype': 'uint16', 'nodata': None, 'width': 10980, 'height': 10980, 'count': 1, 'crs': CRS.from_epsg(32618), 'transform': Affine(10.0, 0.0, 300000.0,\n",
      "       0.0, -10.0, 4400040.0)}\n",
      "{'driver': 'GTiff', 'dtype': 'uint16', 'nodata': None, 'width': 10980, 'height': 10980, 'count': 4, 'crs': CRS.from_epsg(32618), 'transform': Affine(10.0, 0.0, 300000.0,\n",
      "       0.0, -10.0, 4400040.0)}\n",
      "Image Written!\n",
      "Image Written!\n",
      "Image Written!\n",
      "Image Written!\n"
     ]
    }
   ],
   "source": [
    "#IMPORTING BANDS 2,3,4,5. STACKING AND OUTPUTTING A 4 BAND IMAGE \n",
    "\n",
    "#Linking To images \n",
    "current_dir=os.getcwd()\n",
    "print(current_dir)\n",
    "\n",
    "images_location = current_dir + r'\\finalproj_img_stor'\n",
    "print(images_location)\n",
    "\n",
    "img16 = images_location + r'\\S2A_MSIL1C_20160524T161222_N0202_R097_T18SUJ_20160524T161221\\GRANULE\\L1C_T18SUJ_A004813_20160524T161221\\IMG_DATA'\n",
    "bands16 = [img16 + '\\T18SUJ_20160524T161222_B02.jp2', #blue\n",
    "           img16 + '\\T18SUJ_20160524T161222_B03.jp2', #green\n",
    "           img16 + '\\T18SUJ_20160524T161222_B04.jp2', #red\n",
    "           img16 + '\\T18SUJ_20160524T161222_B05.jp2', #nir \n",
    "          ]\n",
    "bands16\n",
    "\n",
    "src = rasterio.open(bands16[0])\n",
    "print(src)\n",
    "\n",
    "#Checking metadata\n",
    "meta = src.meta\n",
    "print(meta)\n",
    "\n",
    "#updating metadata\n",
    "meta.update(count=len(bands16))\n",
    "meta.update(driver='GTiff')\n",
    "print(meta)\n",
    "\n",
    "#Write 4 band image out \n",
    "with rasterio.open('C:/Users/cfcni/finalproj_img_stor/2016ffx.tif', 'w', **meta) as dst:\n",
    "    for id, layer in enumerate(bands16, start=1):\n",
    "        with rasterio.open(layer) as src:\n",
    "            dst.write(src.read(1), id)\n",
    "            print('Image Written!')"
   ]
  }
 ],
 "metadata": {
  "kernelspec": {
   "display_name": "Python 3 (ipykernel)",
   "language": "python",
   "name": "python3"
  },
  "language_info": {
   "codemirror_mode": {
    "name": "ipython",
    "version": 3
   },
   "file_extension": ".py",
   "mimetype": "text/x-python",
   "name": "python",
   "nbconvert_exporter": "python",
   "pygments_lexer": "ipython3",
   "version": "3.9.12"
  }
 },
 "nbformat": 4,
 "nbformat_minor": 5
}
